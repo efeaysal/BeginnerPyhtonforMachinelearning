{
 "cells": [
  {
   "cell_type": "code",
   "execution_count": 1,
   "id": "e0bb4798-9d6a-42ab-aa53-83356c277f7f",
   "metadata": {},
   "outputs": [
    {
     "name": "stdout",
     "output_type": "stream",
     "text": [
      "      Şehir  Aylık Satış  Müşteri Sayısı\n",
      "0  İstanbul        25000             150\n",
      "1    Ankara        18000             120\n",
      "2     İzmir        22000             130\n",
      "3    Ankara        19000             110\n",
      "4     İzmir        21000             140\n",
      "5  İstanbul        24000             160\n"
     ]
    }
   ],
   "source": [
    "import pandas as pd\n",
    "\n",
    "veri = {\n",
    "    'Şehir': ['İstanbul', 'Ankara', 'İzmir', 'Ankara', 'İzmir', 'İstanbul'],\n",
    "    'Aylık Satış': [25000, 18000, 22000, 19000, 21000, 24000],\n",
    "    'Müşteri Sayısı': [150, 120, 130, 110, 140, 160]\n",
    "}\n",
    "\n",
    "satislar = pd.DataFrame(veri)\n",
    "print(satislar)\n"
   ]
  },
  {
   "cell_type": "code",
   "execution_count": 5,
   "id": "352dbb7e-fb45-4718-b234-2779d1c545fe",
   "metadata": {},
   "outputs": [
    {
     "name": "stdout",
     "output_type": "stream",
     "text": [
      "Şehir\n",
      "Ankara      37000\n",
      "İstanbul    49000\n",
      "İzmir       43000\n",
      "Name: Aylık Satış, dtype: int64\n"
     ]
    }
   ],
   "source": [
    "toplam_satislar = satislar.groupby(\"Şehir\")[\"Aylık Satış\"].sum()\n",
    "print(toplam_satislar)\n"
   ]
  },
  {
   "cell_type": "code",
   "execution_count": 6,
   "id": "db4e2b63-e056-4d15-af7d-9802339ef8b2",
   "metadata": {},
   "outputs": [
    {
     "name": "stdout",
     "output_type": "stream",
     "text": [
      "Şehir\n",
      "Ankara      115.0\n",
      "İstanbul    155.0\n",
      "İzmir       135.0\n",
      "Name: Müşteri Sayısı, dtype: float64\n"
     ]
    }
   ],
   "source": [
    "ortalama_musteri_sayisi = satislar.groupby('Şehir')['Müşteri Sayısı'].mean()\n",
    "print(ortalama_musteri_sayisi)\n"
   ]
  },
  {
   "cell_type": "code",
   "execution_count": null,
   "id": "11cf3377-6a83-4178-ba30-92df581bf3d2",
   "metadata": {},
   "outputs": [],
   "source": [
    "en_yuksek_satis = satislar['Aylık Satış'].max()\n",
    "en_yuksek_satisin_sehri = satislar[satislar['Aylık Satış'] == en_yuksek_satis]['Şehir'].values[0]\n",
    "print(f\"{en_yuksek_satisin_sehri} şehrinde en yüksek aylık satış: {en_yuksek_satis}\")\n"
   ]
  },
  {
   "cell_type": "code",
   "execution_count": 7,
   "id": "4f24f08f-4457-4a51-bbb1-41d766565eb3",
   "metadata": {},
   "outputs": [],
   "source": [
    "import pandas as pd\n",
    "\n",
    "veri = {\n",
    "    'Ad': ['Ali', 'Ayşe', 'Mehmet', 'Elif', 'Hasan'],\n",
    "    'Puan': [85, 92, 78, 70, 88],\n",
    "    'Cinsiyet': ['Erkek', 'Kadın', 'Erkek', 'Kadın', 'Erkek']\n",
    "}\n",
    "\n",
    "ogrenciler = pd.DataFrame(veri)\n"
   ]
  },
  {
   "cell_type": "code",
   "execution_count": 8,
   "id": "41147cb3-ea80-4edb-a910-1aca105aa7f3",
   "metadata": {},
   "outputs": [
    {
     "name": "stdout",
     "output_type": "stream",
     "text": [
      "{'Ad': ['Ali', 'Ayşe', 'Mehmet', 'Elif', 'Hasan'], 'Puan': [85, 92, 78, 70, 88], 'Cinsiyet': ['Erkek', 'Kadın', 'Erkek', 'Kadın', 'Erkek']}\n"
     ]
    }
   ],
   "source": [
    "print(veri)"
   ]
  },
  {
   "cell_type": "code",
   "execution_count": 9,
   "id": "2f0114e2-b0f4-4b8d-bed9-5fce07d79f65",
   "metadata": {},
   "outputs": [
    {
     "ename": "AttributeError",
     "evalue": "'dict' object has no attribute 'head'",
     "output_type": "error",
     "traceback": [
      "\u001b[0;31m---------------------------------------------------------------------------\u001b[0m",
      "\u001b[0;31mAttributeError\u001b[0m                            Traceback (most recent call last)",
      "Cell \u001b[0;32mIn[9], line 1\u001b[0m\n\u001b[0;32m----> 1\u001b[0m \u001b[43mveri\u001b[49m\u001b[38;5;241;43m.\u001b[39;49m\u001b[43mhead\u001b[49m()\n",
      "\u001b[0;31mAttributeError\u001b[0m: 'dict' object has no attribute 'head'"
     ]
    }
   ],
   "source": [
    "veri.head()"
   ]
  },
  {
   "cell_type": "code",
   "execution_count": 1,
   "id": "263a0b43-5473-4b45-ab87-0ddb49551da7",
   "metadata": {},
   "outputs": [],
   "source": [
    "import pandas as pd\n",
    "\n",
    "veri = {\n",
    "    'Ad': ['Ali', 'Ayşe', 'Mehmet', 'Elif', 'Hasan'],\n",
    "    'Puan': [85, 92, 78, 70, 88],\n",
    "    'Cinsiyet': ['Erkek', 'Kadın', 'Erkek', 'Kadın', 'Erkek']\n",
    "}\n",
    "\n",
    "ogrenciler = pd.DataFrame(veri)\n"
   ]
  },
  {
   "cell_type": "code",
   "execution_count": 5,
   "id": "0730a274-5c5b-4db4-8adf-689189cefe3b",
   "metadata": {},
   "outputs": [],
   "source": [
    "ortalama = ogrenciler.groupby('Ad')['Puan'].mean()"
   ]
  },
  {
   "cell_type": "code",
   "execution_count": 6,
   "id": "c6b96af7-d998-40e4-be62-366535db0424",
   "metadata": {},
   "outputs": [
    {
     "name": "stdout",
     "output_type": "stream",
     "text": [
      "Ad\n",
      "Ali       85.0\n",
      "Ayşe      92.0\n",
      "Elif      70.0\n",
      "Hasan     88.0\n",
      "Mehmet    78.0\n",
      "Name: Puan, dtype: float64\n"
     ]
    }
   ],
   "source": [
    "print(ortalama)"
   ]
  },
  {
   "cell_type": "code",
   "execution_count": 7,
   "id": "5c1a11da-038e-468f-ae3b-275ae4ccfc51",
   "metadata": {},
   "outputs": [],
   "source": [
    "cinsiyet_ortalama = ogrenciler.groupby('Cinsiyet')['Puan'].mean()"
   ]
  },
  {
   "cell_type": "code",
   "execution_count": 8,
   "id": "b30470d9-09f2-4c05-af0e-08076b16c197",
   "metadata": {},
   "outputs": [
    {
     "name": "stdout",
     "output_type": "stream",
     "text": [
      "Cinsiyet\n",
      "Erkek    83.666667\n",
      "Kadın    81.000000\n",
      "Name: Puan, dtype: float64\n"
     ]
    }
   ],
   "source": [
    "print(cinsiyet_ortalama)"
   ]
  },
  {
   "cell_type": "code",
   "execution_count": 9,
   "id": "367993b8-1e29-47ae-a251-3a76340176f1",
   "metadata": {},
   "outputs": [],
   "source": [
    "import pandas as pd\n",
    "\n",
    "veri = {\n",
    "    'Şehir': ['İstanbul', 'Ankara', 'İzmir', 'Ankara', 'İzmir', 'İstanbul'],\n",
    "    'Sıcaklık': [30, 32, 28, 35, 29, 31],\n",
    "    'Nem': [55, 50, 60, 40, 65, 58]\n",
    "}\n",
    "\n",
    "hava_durumu = pd.DataFrame(veri)\n"
   ]
  },
  {
   "cell_type": "code",
   "execution_count": 10,
   "id": "6558a2be-3237-4199-9486-7675f39884f5",
   "metadata": {},
   "outputs": [
    {
     "data": {
      "text/html": [
       "<div>\n",
       "<style scoped>\n",
       "    .dataframe tbody tr th:only-of-type {\n",
       "        vertical-align: middle;\n",
       "    }\n",
       "\n",
       "    .dataframe tbody tr th {\n",
       "        vertical-align: top;\n",
       "    }\n",
       "\n",
       "    .dataframe thead th {\n",
       "        text-align: right;\n",
       "    }\n",
       "</style>\n",
       "<table border=\"1\" class=\"dataframe\">\n",
       "  <thead>\n",
       "    <tr style=\"text-align: right;\">\n",
       "      <th></th>\n",
       "      <th>Şehir</th>\n",
       "      <th>Sıcaklık</th>\n",
       "      <th>Nem</th>\n",
       "    </tr>\n",
       "  </thead>\n",
       "  <tbody>\n",
       "    <tr>\n",
       "      <th>0</th>\n",
       "      <td>İstanbul</td>\n",
       "      <td>30</td>\n",
       "      <td>55</td>\n",
       "    </tr>\n",
       "    <tr>\n",
       "      <th>1</th>\n",
       "      <td>Ankara</td>\n",
       "      <td>32</td>\n",
       "      <td>50</td>\n",
       "    </tr>\n",
       "    <tr>\n",
       "      <th>2</th>\n",
       "      <td>İzmir</td>\n",
       "      <td>28</td>\n",
       "      <td>60</td>\n",
       "    </tr>\n",
       "    <tr>\n",
       "      <th>3</th>\n",
       "      <td>Ankara</td>\n",
       "      <td>35</td>\n",
       "      <td>40</td>\n",
       "    </tr>\n",
       "    <tr>\n",
       "      <th>4</th>\n",
       "      <td>İzmir</td>\n",
       "      <td>29</td>\n",
       "      <td>65</td>\n",
       "    </tr>\n",
       "    <tr>\n",
       "      <th>5</th>\n",
       "      <td>İstanbul</td>\n",
       "      <td>31</td>\n",
       "      <td>58</td>\n",
       "    </tr>\n",
       "  </tbody>\n",
       "</table>\n",
       "</div>"
      ],
      "text/plain": [
       "      Şehir  Sıcaklık  Nem\n",
       "0  İstanbul        30   55\n",
       "1    Ankara        32   50\n",
       "2     İzmir        28   60\n",
       "3    Ankara        35   40\n",
       "4     İzmir        29   65\n",
       "5  İstanbul        31   58"
      ]
     },
     "execution_count": 10,
     "metadata": {},
     "output_type": "execute_result"
    }
   ],
   "source": [
    "hava_durumu"
   ]
  },
  {
   "cell_type": "code",
   "execution_count": 12,
   "id": "de610a7f-768b-4c9a-8929-425174823652",
   "metadata": {},
   "outputs": [
    {
     "ename": "AttributeError",
     "evalue": "'Series' object has no attribute 'axis'",
     "output_type": "error",
     "traceback": [
      "\u001b[0;31m---------------------------------------------------------------------------\u001b[0m",
      "\u001b[0;31mAttributeError\u001b[0m                            Traceback (most recent call last)",
      "Cell \u001b[0;32mIn[12], line 1\u001b[0m\n\u001b[0;32m----> 1\u001b[0m ortalamasıcaklık \u001b[38;5;241m=\u001b[39m \u001b[43mhava_durumu\u001b[49m\u001b[38;5;241;43m.\u001b[39;49m\u001b[43mgroupby\u001b[49m\u001b[43m(\u001b[49m\u001b[38;5;124;43m'\u001b[39;49m\u001b[38;5;124;43mŞehir\u001b[39;49m\u001b[38;5;124;43m'\u001b[39;49m\u001b[43m)\u001b[49m\u001b[43m[\u001b[49m\u001b[38;5;124;43m'\u001b[39;49m\u001b[38;5;124;43mSıcaklık\u001b[39;49m\u001b[38;5;124;43m'\u001b[39;49m\u001b[43m]\u001b[49m\u001b[38;5;241;43m.\u001b[39;49m\u001b[43mmean\u001b[49m\u001b[43m(\u001b[49m\u001b[43m)\u001b[49m\u001b[38;5;241;43m.\u001b[39;49m\u001b[43maxis\u001b[49m(\u001b[38;5;241m1\u001b[39m)\n",
      "File \u001b[0;32m~/anaconda3/lib/python3.10/site-packages/pandas/core/generic.py:5902\u001b[0m, in \u001b[0;36mNDFrame.__getattr__\u001b[0;34m(self, name)\u001b[0m\n\u001b[1;32m   5895\u001b[0m \u001b[38;5;28;01mif\u001b[39;00m (\n\u001b[1;32m   5896\u001b[0m     name \u001b[38;5;129;01mnot\u001b[39;00m \u001b[38;5;129;01min\u001b[39;00m \u001b[38;5;28mself\u001b[39m\u001b[38;5;241m.\u001b[39m_internal_names_set\n\u001b[1;32m   5897\u001b[0m     \u001b[38;5;129;01mand\u001b[39;00m name \u001b[38;5;129;01mnot\u001b[39;00m \u001b[38;5;129;01min\u001b[39;00m \u001b[38;5;28mself\u001b[39m\u001b[38;5;241m.\u001b[39m_metadata\n\u001b[1;32m   5898\u001b[0m     \u001b[38;5;129;01mand\u001b[39;00m name \u001b[38;5;129;01mnot\u001b[39;00m \u001b[38;5;129;01min\u001b[39;00m \u001b[38;5;28mself\u001b[39m\u001b[38;5;241m.\u001b[39m_accessors\n\u001b[1;32m   5899\u001b[0m     \u001b[38;5;129;01mand\u001b[39;00m \u001b[38;5;28mself\u001b[39m\u001b[38;5;241m.\u001b[39m_info_axis\u001b[38;5;241m.\u001b[39m_can_hold_identifiers_and_holds_name(name)\n\u001b[1;32m   5900\u001b[0m ):\n\u001b[1;32m   5901\u001b[0m     \u001b[38;5;28;01mreturn\u001b[39;00m \u001b[38;5;28mself\u001b[39m[name]\n\u001b[0;32m-> 5902\u001b[0m \u001b[38;5;28;01mreturn\u001b[39;00m \u001b[38;5;28;43mobject\u001b[39;49m\u001b[38;5;241;43m.\u001b[39;49m\u001b[38;5;21;43m__getattribute__\u001b[39;49m\u001b[43m(\u001b[49m\u001b[38;5;28;43mself\u001b[39;49m\u001b[43m,\u001b[49m\u001b[43m \u001b[49m\u001b[43mname\u001b[49m\u001b[43m)\u001b[49m\n",
      "\u001b[0;31mAttributeError\u001b[0m: 'Series' object has no attribute 'axis'"
     ]
    }
   ],
   "source": [
    "ortalamasıcaklık = hava_durumu.groupby('Şehir')['Sıcaklık'].mean().axis(1)"
   ]
  },
  {
   "cell_type": "code",
   "execution_count": 15,
   "id": "542d1d45-36a6-4393-b53f-d7cc73220d3b",
   "metadata": {},
   "outputs": [],
   "source": [
    "ortalamasıcaklık = hava_durumu.groupby('Şehir')['Sıcaklık'].mean()\n"
   ]
  },
  {
   "cell_type": "code",
   "execution_count": 16,
   "id": "33b367f0-ed0e-4bfc-9a1a-46ce9672be5b",
   "metadata": {},
   "outputs": [
    {
     "name": "stdout",
     "output_type": "stream",
     "text": [
      "Şehir\n",
      "Ankara      33.5\n",
      "İstanbul    30.5\n",
      "İzmir       28.5\n",
      "Name: Sıcaklık, dtype: float64\n"
     ]
    }
   ],
   "source": [
    "print(ortalamasıcaklık)"
   ]
  },
  {
   "cell_type": "code",
   "execution_count": 17,
   "id": "be13c16b-8147-4fcf-b1d7-de6747e74458",
   "metadata": {},
   "outputs": [
    {
     "ename": "TypeError",
     "evalue": "'>' not supported between instances of 'SeriesGroupBy' and 'int'",
     "output_type": "error",
     "traceback": [
      "\u001b[0;31m---------------------------------------------------------------------------\u001b[0m",
      "\u001b[0;31mTypeError\u001b[0m                                 Traceback (most recent call last)",
      "Cell \u001b[0;32mIn[17], line 1\u001b[0m\n\u001b[0;32m----> 1\u001b[0m yukseknem \u001b[38;5;241m=\u001b[39m \u001b[43mhava_durumu\u001b[49m\u001b[38;5;241;43m.\u001b[39;49m\u001b[43mgroupby\u001b[49m\u001b[43m(\u001b[49m\u001b[38;5;124;43m'\u001b[39;49m\u001b[38;5;124;43mŞehir\u001b[39;49m\u001b[38;5;124;43m'\u001b[39;49m\u001b[43m)\u001b[49m\u001b[43m[\u001b[49m\u001b[38;5;124;43m'\u001b[39;49m\u001b[38;5;124;43mSıcaklık\u001b[39;49m\u001b[38;5;124;43m'\u001b[39;49m\u001b[43m]\u001b[49m\u001b[43m \u001b[49m\u001b[38;5;241;43m>\u001b[39;49m\u001b[43m \u001b[49m\u001b[38;5;241;43m55\u001b[39;49m\n",
      "\u001b[0;31mTypeError\u001b[0m: '>' not supported between instances of 'SeriesGroupBy' and 'int'"
     ]
    }
   ],
   "source": [
    "yukseknem = hava_durumu.groupby('Şehir')['Sıcaklık'] > 55\n"
   ]
  },
  {
   "cell_type": "code",
   "execution_count": null,
   "id": "b0386963-0bb4-4ab3-8691-b5740e60ccd6",
   "metadata": {},
   "outputs": [],
   "source": [
    "yukseknem = hava_durumu['Sıcaklık'] > 55\n"
   ]
  }
 ],
 "metadata": {
  "kernelspec": {
   "display_name": "Python 3 (ipykernel)",
   "language": "python",
   "name": "python3"
  },
  "language_info": {
   "codemirror_mode": {
    "name": "ipython",
    "version": 3
   },
   "file_extension": ".py",
   "mimetype": "text/x-python",
   "name": "python",
   "nbconvert_exporter": "python",
   "pygments_lexer": "ipython3",
   "version": "3.10.9"
  }
 },
 "nbformat": 4,
 "nbformat_minor": 5
}
